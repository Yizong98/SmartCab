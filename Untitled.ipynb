{
 "cells": [
  {
   "cell_type": "code",
   "execution_count": 15,
   "metadata": {
    "collapsed": true
   },
   "outputs": [],
   "source": [
    "def  garden(n):\n",
    "  '''\n",
    "  >>> garden(3)\n",
    "  8\n",
    "  >>> garden(4)\n",
    "  10\n",
    "  >>> garden(0)\n",
    "  0\n",
    "  \n",
    "  '''\n",
    "  # YOUR CODE GOES HERE #\n",
    "  assert isinstance(n,int),\"must be a integer\"\n",
    "  assert (n>=0),\"must be non-negative\"\n",
    "  total = 0\n",
    "  if (n==0):\n",
    "    return 0\n",
    "  if (n%2==0):\n",
    "    total = 2\n",
    "  else:\n",
    "    total = 3\n",
    "  return garden(n-1)+total"
   ]
  },
  {
   "cell_type": "code",
   "execution_count": 244,
   "metadata": {},
   "outputs": [],
   "source": [
    "def paren_checker(check_str):\n",
    "    '''\n",
    "    >>> paren_checker(\"()\")\n",
    "    True\n",
    "    >>> paren_checker(\"()()\")\n",
    "    False\n",
    "    >>> paren_checker(\"(()))\")\n",
    "    False\n",
    "    >>> paren_checker(\"((x)))\")\n",
    "    False\n",
    "    >>> paren_checker(\"(())\")\n",
    "    True\n",
    "    '''\n",
    "    # YOUR CODE GOES HERE #\n",
    "    assert isinstance(check_str,str),\"input must be string\"\n",
    "    if(check_str==''):\n",
    "        return True\n",
    "    else:\n",
    "        if(check_str[0]+check_str[-1]==\"()\"):\n",
    "            check_str=check_str[1:-1]\n",
    "            return paren_checker(check_str)\n",
    "        else:\n",
    "            return False\n",
    "    \n",
    "    \n",
    "    "
   ]
  },
  {
   "cell_type": "code",
   "execution_count": 253,
   "metadata": {
    "collapsed": true
   },
   "outputs": [],
   "source": [
    "def puta(n):\n",
    "    return 3*n"
   ]
  },
  {
   "cell_type": "code",
   "execution_count": 263,
   "metadata": {
    "collapsed": true
   },
   "outputs": [],
   "source": [
    "def puta(n):\n",
    "    if (n==0):\n",
    "        return 1\n",
    "    return n+1"
   ]
  },
  {
   "cell_type": "code",
   "execution_count": 266,
   "metadata": {},
   "outputs": [
    {
     "ename": "TypeError",
     "evalue": "unsupported operand type(s) for +: 'function' and 'int'",
     "output_type": "error",
     "traceback": [
      "\u001b[1;31m---------------------------------------------------------------------------\u001b[0m",
      "\u001b[1;31mTypeError\u001b[0m                                 Traceback (most recent call last)",
      "\u001b[1;32m<ipython-input-266-6fcfb3bc1d90>\u001b[0m in \u001b[0;36m<module>\u001b[1;34m()\u001b[0m\n\u001b[1;32m----> 1\u001b[1;33m \u001b[0mputa\u001b[0m\u001b[1;33m(\u001b[0m\u001b[0mputa\u001b[0m\u001b[1;33m)\u001b[0m\u001b[1;33m\u001b[0m\u001b[0m\n\u001b[0m",
      "\u001b[1;32m<ipython-input-263-1cab8c2f4dfe>\u001b[0m in \u001b[0;36mputa\u001b[1;34m(n)\u001b[0m\n\u001b[0;32m      2\u001b[0m     \u001b[1;32mif\u001b[0m \u001b[1;33m(\u001b[0m\u001b[0mn\u001b[0m\u001b[1;33m==\u001b[0m\u001b[1;36m0\u001b[0m\u001b[1;33m)\u001b[0m\u001b[1;33m:\u001b[0m\u001b[1;33m\u001b[0m\u001b[0m\n\u001b[0;32m      3\u001b[0m         \u001b[1;32mreturn\u001b[0m \u001b[1;36m1\u001b[0m\u001b[1;33m\u001b[0m\u001b[0m\n\u001b[1;32m----> 4\u001b[1;33m     \u001b[1;32mreturn\u001b[0m \u001b[0mn\u001b[0m\u001b[1;33m+\u001b[0m\u001b[1;36m1\u001b[0m\u001b[1;33m\u001b[0m\u001b[0m\n\u001b[0m",
      "\u001b[1;31mTypeError\u001b[0m: unsupported operand type(s) for +: 'function' and 'int'"
     ]
    }
   ],
   "source": [
    "puta(puta)"
   ]
  },
  {
   "cell_type": "code",
   "execution_count": 264,
   "metadata": {
    "scrolled": true
   },
   "outputs": [
    {
     "data": {
      "text/plain": [
       "3"
      ]
     },
     "execution_count": 264,
     "metadata": {},
     "output_type": "execute_result"
    }
   ],
   "source": [
    "puta(2)"
   ]
  },
  {
   "cell_type": "code",
   "execution_count": 258,
   "metadata": {},
   "outputs": [
    {
     "ename": "TypeError",
     "evalue": "unsupported operand type(s) for *: 'int' and 'function'",
     "output_type": "error",
     "traceback": [
      "\u001b[1;31m---------------------------------------------------------------------------\u001b[0m",
      "\u001b[1;31mTypeError\u001b[0m                                 Traceback (most recent call last)",
      "\u001b[1;32m<ipython-input-258-6fcfb3bc1d90>\u001b[0m in \u001b[0;36m<module>\u001b[1;34m()\u001b[0m\n\u001b[1;32m----> 1\u001b[1;33m \u001b[0mputa\u001b[0m\u001b[1;33m(\u001b[0m\u001b[0mputa\u001b[0m\u001b[1;33m)\u001b[0m\u001b[1;33m\u001b[0m\u001b[0m\n\u001b[0m",
      "\u001b[1;32m<ipython-input-253-67b53a2dc2ba>\u001b[0m in \u001b[0;36mputa\u001b[1;34m(n)\u001b[0m\n\u001b[0;32m      1\u001b[0m \u001b[1;32mdef\u001b[0m \u001b[0mputa\u001b[0m\u001b[1;33m(\u001b[0m\u001b[0mn\u001b[0m\u001b[1;33m)\u001b[0m\u001b[1;33m:\u001b[0m\u001b[1;33m\u001b[0m\u001b[0m\n\u001b[1;32m----> 2\u001b[1;33m     \u001b[1;32mreturn\u001b[0m \u001b[1;36m3\u001b[0m\u001b[1;33m*\u001b[0m\u001b[0mn\u001b[0m\u001b[1;33m\u001b[0m\u001b[0m\n\u001b[0m",
      "\u001b[1;31mTypeError\u001b[0m: unsupported operand type(s) for *: 'int' and 'function'"
     ]
    }
   ],
   "source": [
    "puta(puta)"
   ]
  },
  {
   "cell_type": "code",
   "execution_count": 252,
   "metadata": {},
   "outputs": [],
   "source": [
    "def haha(f):\n",
    "    return f(f)"
   ]
  },
  {
   "cell_type": "code",
   "execution_count": 269,
   "metadata": {},
   "outputs": [
    {
     "data": {
      "text/plain": [
       "<function __main__.<lambda>>"
      ]
     },
     "execution_count": 269,
     "metadata": {},
     "output_type": "execute_result"
    }
   ],
   "source": [
    "lambda x: x+1"
   ]
  },
  {
   "cell_type": "code",
   "execution_count": 271,
   "metadata": {
    "scrolled": true
   },
   "outputs": [
    {
     "ename": "TypeError",
     "evalue": "unsupported operand type(s) for +: 'function' and 'int'",
     "output_type": "error",
     "traceback": [
      "\u001b[1;31m---------------------------------------------------------------------------\u001b[0m",
      "\u001b[1;31mTypeError\u001b[0m                                 Traceback (most recent call last)",
      "\u001b[1;32m<ipython-input-271-0b7059d04282>\u001b[0m in \u001b[0;36m<module>\u001b[1;34m()\u001b[0m\n\u001b[1;32m----> 1\u001b[1;33m \u001b[0mhehe\u001b[0m\u001b[1;33m(\u001b[0m\u001b[1;32mlambda\u001b[0m \u001b[0mx\u001b[0m\u001b[1;33m:\u001b[0m \u001b[0mhehe\u001b[0m\u001b[1;33m)\u001b[0m\u001b[1;33m\u001b[0m\u001b[0m\n\u001b[0m",
      "\u001b[1;32m<ipython-input-268-ee6f1c1c6bef>\u001b[0m in \u001b[0;36mhehe\u001b[1;34m(n)\u001b[0m\n\u001b[0;32m      1\u001b[0m \u001b[1;32mdef\u001b[0m \u001b[0mhehe\u001b[0m\u001b[1;33m(\u001b[0m\u001b[0mn\u001b[0m\u001b[1;33m)\u001b[0m\u001b[1;33m:\u001b[0m\u001b[1;33m\u001b[0m\u001b[0m\n\u001b[1;32m----> 2\u001b[1;33m     \u001b[1;32mreturn\u001b[0m \u001b[0mn\u001b[0m\u001b[1;33m+\u001b[0m\u001b[1;36m1\u001b[0m\u001b[1;33m\u001b[0m\u001b[0m\n\u001b[0m",
      "\u001b[1;31mTypeError\u001b[0m: unsupported operand type(s) for +: 'function' and 'int'"
     ]
    }
   ],
   "source": [
    "hehe(lambda x: hehe)"
   ]
  },
  {
   "cell_type": "code",
   "execution_count": 283,
   "metadata": {},
   "outputs": [],
   "source": [
    "def multi(n):\n",
    "    return n*2"
   ]
  },
  {
   "cell_type": "code",
   "execution_count": 277,
   "metadata": {
    "collapsed": true
   },
   "outputs": [],
   "source": [
    "def hehe(n):\n",
    "    return n"
   ]
  },
  {
   "cell_type": "code",
   "execution_count": 284,
   "metadata": {},
   "outputs": [
    {
     "data": {
      "text/plain": [
       "<function __main__.multi>"
      ]
     },
     "execution_count": 284,
     "metadata": {},
     "output_type": "execute_result"
    }
   ],
   "source": [
    "hehe(multi)"
   ]
  },
  {
   "cell_type": "code",
   "execution_count": 280,
   "metadata": {},
   "outputs": [
    {
     "data": {
      "text/plain": [
       "2"
      ]
     },
     "execution_count": 280,
     "metadata": {},
     "output_type": "execute_result"
    }
   ],
   "source": [
    "hehe(s)(1)"
   ]
  },
  {
   "cell_type": "code",
   "execution_count": 416,
   "metadata": {},
   "outputs": [],
   "source": [
    "def make_repeater(f, n):\n",
    "    \"\"\"Return the function that computes the nth application of f.\n",
    "\n",
    "    >>> add_three = make_repeater(increment, 3)\n",
    "    >>> add_three(5)\n",
    "    8\n",
    "    >>> make_repeater(triple, 5)(1) # 3 * 3 * 3 * 3 * 3 * 1\n",
    "    243\n",
    "    >>> make_repeater(square, 2)(5) # square(square(5))\n",
    "    625\n",
    "    >>> make_repeater(square, 4)(5) # square(square(square(square(5))))\n",
    "    152587890625\n",
    "    >>> make_repeater(square, 0)(5)\n",
    "    5\n",
    "    \"\"\"\n",
    "    # YOUR CODE GOES HERE #\n",
    "    def identity(a):\n",
    "        return a\n",
    "    if (n==0):\n",
    "        return identity\n",
    "    elif(n==1):\n",
    "        return lambda x: f(x)\n",
    "    else:\n",
    "        return lambda x: make_repeater(f,(n-1))(f(x))\n",
    "    "
   ]
  },
  {
   "cell_type": "code",
   "execution_count": 409,
   "metadata": {},
   "outputs": [
    {
     "data": {
      "text/plain": [
       "2"
      ]
     },
     "execution_count": 409,
     "metadata": {},
     "output_type": "execute_result"
    }
   ],
   "source": [
    "s(1)"
   ]
  },
  {
   "cell_type": "code",
   "execution_count": 410,
   "metadata": {},
   "outputs": [],
   "source": [
    "papa =lambda x: (square(x))"
   ]
  },
  {
   "cell_type": "code",
   "execution_count": 411,
   "metadata": {},
   "outputs": [
    {
     "data": {
      "text/plain": [
       "4"
      ]
     },
     "execution_count": 411,
     "metadata": {},
     "output_type": "execute_result"
    }
   ],
   "source": [
    "papa(2)"
   ]
  },
  {
   "cell_type": "code",
   "execution_count": 402,
   "metadata": {},
   "outputs": [
    {
     "data": {
      "text/plain": [
       "9"
      ]
     },
     "execution_count": 402,
     "metadata": {},
     "output_type": "execute_result"
    }
   ],
   "source": [
    "square(3)"
   ]
  },
  {
   "cell_type": "code",
   "execution_count": 400,
   "metadata": {},
   "outputs": [
    {
     "name": "stdout",
     "output_type": "stream",
     "text": [
      "identity run\n"
     ]
    },
    {
     "data": {
      "text/plain": [
       "5"
      ]
     },
     "execution_count": 400,
     "metadata": {},
     "output_type": "execute_result"
    }
   ],
   "source": [
    "make_repeater(square, 0)(5)"
   ]
  },
  {
   "cell_type": "code",
   "execution_count": 417,
   "metadata": {},
   "outputs": [
    {
     "data": {
      "text/plain": [
       "152587890625"
      ]
     },
     "execution_count": 417,
     "metadata": {},
     "output_type": "execute_result"
    }
   ],
   "source": [
    "make_repeater(square, 4)(5)"
   ]
  },
  {
   "cell_type": "code",
   "execution_count": 398,
   "metadata": {},
   "outputs": [
    {
     "name": "stdout",
     "output_type": "stream",
     "text": [
      "lamda run\n",
      "n==1 run\n"
     ]
    },
    {
     "data": {
      "text/plain": [
       "625"
      ]
     },
     "execution_count": 398,
     "metadata": {},
     "output_type": "execute_result"
    }
   ],
   "source": [
    "make_repeater(square, 2)(5)"
   ]
  },
  {
   "cell_type": "code",
   "execution_count": 397,
   "metadata": {
    "collapsed": true
   },
   "outputs": [],
   "source": [
    "def square(n):\n",
    "    return n**2"
   ]
  },
  {
   "cell_type": "code",
   "execution_count": 396,
   "metadata": {},
   "outputs": [
    {
     "name": "stdout",
     "output_type": "stream",
     "text": [
      "lamda run\n",
      "lamda run\n",
      "lamda run\n",
      "lamda run\n",
      "n==1 run\n"
     ]
    },
    {
     "data": {
      "text/plain": [
       "243"
      ]
     },
     "execution_count": 396,
     "metadata": {},
     "output_type": "execute_result"
    }
   ],
   "source": [
    "make_repeater(triple, 5)(1)"
   ]
  },
  {
   "cell_type": "code",
   "execution_count": 378,
   "metadata": {
    "scrolled": true
   },
   "outputs": [
    {
     "name": "stdout",
     "output_type": "stream",
     "text": [
      "lamda run\n",
      "lamda run\n",
      "lamda run\n",
      "lamda run\n",
      "n==1 run\n"
     ]
    },
    {
     "data": {
      "text/plain": [
       "43046721"
      ]
     },
     "execution_count": 378,
     "metadata": {},
     "output_type": "execute_result"
    }
   ],
   "source": [
    "make_repeater(triple, 5)(1)"
   ]
  },
  {
   "cell_type": "code",
   "execution_count": 348,
   "metadata": {
    "collapsed": true
   },
   "outputs": [],
   "source": [
    "def triple(n):\n",
    "    return 3 * n"
   ]
  },
  {
   "cell_type": "code",
   "execution_count": 395,
   "metadata": {
    "scrolled": false
   },
   "outputs": [
    {
     "name": "stdout",
     "output_type": "stream",
     "text": [
      "lamda run\n",
      "n==1 run\n"
     ]
    },
    {
     "data": {
      "text/plain": [
       "8"
      ]
     },
     "execution_count": 395,
     "metadata": {},
     "output_type": "execute_result"
    }
   ],
   "source": [
    "add_three(5)"
   ]
  },
  {
   "cell_type": "code",
   "execution_count": 394,
   "metadata": {
    "scrolled": true
   },
   "outputs": [
    {
     "name": "stdout",
     "output_type": "stream",
     "text": [
      "lamda run\n"
     ]
    },
    {
     "data": {
      "text/plain": [
       "function"
      ]
     },
     "execution_count": 394,
     "metadata": {},
     "output_type": "execute_result"
    }
   ],
   "source": [
    "add_three = make_repeater(increment, 3)\n",
    "type(add_three)"
   ]
  },
  {
   "cell_type": "code",
   "execution_count": 286,
   "metadata": {
    "collapsed": true
   },
   "outputs": [],
   "source": [
    "def increment(n):\n",
    "    return n + 1"
   ]
  },
  {
   "cell_type": "code",
   "execution_count": 272,
   "metadata": {
    "collapsed": true
   },
   "outputs": [],
   "source": [
    "t = lambda f: lambda x: f(f(f(x)))"
   ]
  },
  {
   "cell_type": "code",
   "execution_count": 273,
   "metadata": {
    "collapsed": true
   },
   "outputs": [],
   "source": [
    "s = lambda x: x + 1"
   ]
  },
  {
   "cell_type": "code",
   "execution_count": 274,
   "metadata": {},
   "outputs": [
    {
     "data": {
      "text/plain": [
       "<function __main__.<lambda>.<locals>.<lambda>>"
      ]
     },
     "execution_count": 274,
     "metadata": {},
     "output_type": "execute_result"
    }
   ],
   "source": [
    "t(s)"
   ]
  },
  {
   "cell_type": "code",
   "execution_count": 249,
   "metadata": {},
   "outputs": [
    {
     "data": {
      "text/plain": [
       "True"
      ]
     },
     "execution_count": 249,
     "metadata": {},
     "output_type": "execute_result"
    }
   ],
   "source": [
    "paren_checker(\"(())\")"
   ]
  },
  {
   "cell_type": "code",
   "execution_count": 248,
   "metadata": {},
   "outputs": [
    {
     "data": {
      "text/plain": [
       "False"
      ]
     },
     "execution_count": 248,
     "metadata": {},
     "output_type": "execute_result"
    }
   ],
   "source": [
    "paren_checker(\"((x)))\")"
   ]
  },
  {
   "cell_type": "code",
   "execution_count": 247,
   "metadata": {},
   "outputs": [
    {
     "data": {
      "text/plain": [
       "False"
      ]
     },
     "execution_count": 247,
     "metadata": {},
     "output_type": "execute_result"
    }
   ],
   "source": [
    "paren_checker(\"(()))\")"
   ]
  },
  {
   "cell_type": "code",
   "execution_count": 246,
   "metadata": {},
   "outputs": [
    {
     "data": {
      "text/plain": [
       "False"
      ]
     },
     "execution_count": 246,
     "metadata": {},
     "output_type": "execute_result"
    }
   ],
   "source": [
    "paren_checker(\"()()\")"
   ]
  },
  {
   "cell_type": "code",
   "execution_count": 242,
   "metadata": {},
   "outputs": [
    {
     "data": {
      "text/plain": [
       "')'"
      ]
     },
     "execution_count": 242,
     "metadata": {},
     "output_type": "execute_result"
    }
   ],
   "source": [
    "\"()\"[-1]"
   ]
  },
  {
   "cell_type": "code",
   "execution_count": 243,
   "metadata": {},
   "outputs": [
    {
     "data": {
      "text/plain": [
       "'()'"
      ]
     },
     "execution_count": 243,
     "metadata": {},
     "output_type": "execute_result"
    }
   ],
   "source": [
    "\"()\"[0]+\"()\"[-1]"
   ]
  },
  {
   "cell_type": "code",
   "execution_count": 245,
   "metadata": {},
   "outputs": [
    {
     "data": {
      "text/plain": [
       "True"
      ]
     },
     "execution_count": 245,
     "metadata": {},
     "output_type": "execute_result"
    }
   ],
   "source": [
    "paren_checker(\"()\")"
   ]
  },
  {
   "cell_type": "code",
   "execution_count": 37,
   "metadata": {
    "collapsed": true
   },
   "outputs": [],
   "source": [
    "def power(base, p):\n",
    "    '''\n",
    "    >>> power(3, 1)\n",
    "    3\n",
    "    >>> power (2, 2)\n",
    "    4\n",
    "    '''\n",
    "    # YOUR CODE GOES HERE #\n",
    "    if (p==0):\n",
    "        return 1\n",
    "    if (p<0):\n",
    "        p = -p\n",
    "        return 1/(power(base,p-1)*(base))\n",
    "    else:\n",
    "        return power(base,p-1)*base\n",
    "    "
   ]
  },
  {
   "cell_type": "code",
   "execution_count": 92,
   "metadata": {
    "collapsed": true
   },
   "outputs": [],
   "source": [
    "def has_eight(k):\n",
    "    '''Returns True if at least one of the digits of k is a 8, \n",
    "    False otherwise.\n",
    "    >>> has_eight(3)\n",
    "    False\n",
    "    >>> has_eight(78)\n",
    "    True\n",
    "    >>> has_eight(2834)\n",
    "    True\n",
    "    >>> has_eight(2634)\n",
    "    False\n",
    "    >>> has_eight(7348)\n",
    "    True\n",
    "    >>> has_eight(8888)\n",
    "    True\n",
    "    '''\n",
    "    # YOUR CODE GOES HERE #\n",
    "    if (k//10==0):\n",
    "        if(k==8):\n",
    "            return True\n",
    "        else:\n",
    "            return False\n",
    "    elif(k%10==8):\n",
    "            return True\n",
    "    else:\n",
    "        k = k//10\n",
    "        \n",
    "\n",
    "    return has_eight(k)\n",
    "\n",
    "    "
   ]
  },
  {
   "cell_type": "code",
   "execution_count": 167,
   "metadata": {
    "collapsed": true
   },
   "outputs": [],
   "source": [
    "def count_eights(k):\n",
    "    '''\n",
    "    >>> count_eights(8818)\n",
    "    4\n",
    "    >>> count_eights(818)\n",
    "    2\n",
    "    >>> count_eights(88788)\n",
    "    6\n",
    "    >>> count_eights(88888)\n",
    "    9\n",
    "    '''\n",
    "    # YOUR CODE GOES HERE #\n",
    "    assert isinstance(k, int), \"Input must be an integer\"\n",
    "    assert (k > 0), \"k must be positive\"\n",
    "    if (k // 10 == 0):\n",
    "        if(k == 8):\n",
    "            return 1\n",
    "        else:\n",
    "            return 0\n",
    "    else:\n",
    "        if(k % 100 == 88):\n",
    "            k = k // 10\n",
    "            return count_eights(k) + 2\n",
    "        elif(k % 10 == 8):\n",
    "            k = k // 10\n",
    "            return count_eights(k) + 1\n",
    "        else:\n",
    "            k = k // 10\n",
    "            return count_eights(k)"
   ]
  },
  {
   "cell_type": "code",
   "execution_count": 231,
   "metadata": {
    "collapsed": true
   },
   "outputs": [],
   "source": [
    "def barack(m):\n",
    "     # YOUR CODE GOES HERE #\n",
    "    if (m == 1):\n",
    "        return \"Barack wins the game\"\n",
    "    else:\n",
    "        return donald(m - 1)\n",
    "\n",
    "\n",
    "def donald(m):\n",
    "     # YOUR CODE GOES HERE #\n",
    "    \n",
    "    if (m == 1 or m==2):\n",
    "        return \"Donald wins the game\"\n",
    "    elif(m%2!=0):\n",
    "        return barack(m - 1)\n",
    "    else:\n",
    "        return barack(m-2)"
   ]
  },
  {
   "cell_type": "code",
   "execution_count": 236,
   "metadata": {
    "scrolled": true
   },
   "outputs": [
    {
     "name": "stdout",
     "output_type": "stream",
     "text": [
      "donald T-REX result in round 1 is 'Donald wins the game'\n",
      "Barack Omega result in round 1 is 'Barack wins the game'\n",
      "donald T-REX result in round 2 is 'Donald wins the game'\n",
      "Barack Omega result in round 2 is 'Donald wins the game'\n",
      "donald T-REX result in round 3 is 'Donald wins the game'\n",
      "Barack Omega result in round 3 is 'Donald wins the game'\n",
      "donald T-REX result in round 4 is 'Donald wins the game'\n",
      "Barack Omega result in round 4 is 'Donald wins the game'\n",
      "donald T-REX result in round 5 is 'Donald wins the game'\n",
      "Barack Omega result in round 5 is 'Donald wins the game'\n",
      "donald T-REX result in round 6 is 'Donald wins the game'\n",
      "Barack Omega result in round 6 is 'Donald wins the game'\n",
      "donald T-REX result in round 7 is 'Donald wins the game'\n",
      "Barack Omega result in round 7 is 'Donald wins the game'\n",
      "donald T-REX result in round 8 is 'Donald wins the game'\n",
      "Barack Omega result in round 8 is 'Donald wins the game'\n",
      "donald T-REX result in round 9 is 'Donald wins the game'\n",
      "Barack Omega result in round 9 is 'Donald wins the game'\n",
      "donald T-REX result in round 10 is 'Donald wins the game'\n",
      "Barack Omega result in round 10 is 'Donald wins the game'\n",
      "donald T-REX result in round 11 is 'Donald wins the game'\n",
      "Barack Omega result in round 11 is 'Donald wins the game'\n",
      "donald T-REX result in round 12 is 'Donald wins the game'\n",
      "Barack Omega result in round 12 is 'Donald wins the game'\n",
      "donald T-REX result in round 13 is 'Donald wins the game'\n",
      "Barack Omega result in round 13 is 'Donald wins the game'\n",
      "donald T-REX result in round 14 is 'Donald wins the game'\n",
      "Barack Omega result in round 14 is 'Donald wins the game'\n",
      "donald T-REX result in round 15 is 'Donald wins the game'\n",
      "Barack Omega result in round 15 is 'Donald wins the game'\n",
      "donald T-REX result in round 16 is 'Donald wins the game'\n",
      "Barack Omega result in round 16 is 'Donald wins the game'\n",
      "donald T-REX result in round 17 is 'Donald wins the game'\n",
      "Barack Omega result in round 17 is 'Donald wins the game'\n",
      "donald T-REX result in round 18 is 'Donald wins the game'\n",
      "Barack Omega result in round 18 is 'Donald wins the game'\n",
      "donald T-REX result in round 19 is 'Donald wins the game'\n",
      "Barack Omega result in round 19 is 'Donald wins the game'\n",
      "donald T-REX result in round 20 is 'Donald wins the game'\n",
      "Barack Omega result in round 20 is 'Donald wins the game'\n",
      "donald T-REX result in round 21 is 'Donald wins the game'\n",
      "Barack Omega result in round 21 is 'Donald wins the game'\n",
      "donald T-REX result in round 22 is 'Donald wins the game'\n",
      "Barack Omega result in round 22 is 'Donald wins the game'\n",
      "donald T-REX result in round 23 is 'Donald wins the game'\n",
      "Barack Omega result in round 23 is 'Donald wins the game'\n",
      "donald T-REX result in round 24 is 'Donald wins the game'\n",
      "Barack Omega result in round 24 is 'Donald wins the game'\n",
      "donald T-REX result in round 25 is 'Donald wins the game'\n",
      "Barack Omega result in round 25 is 'Donald wins the game'\n",
      "donald T-REX result in round 26 is 'Donald wins the game'\n",
      "Barack Omega result in round 26 is 'Donald wins the game'\n",
      "donald T-REX result in round 27 is 'Donald wins the game'\n",
      "Barack Omega result in round 27 is 'Donald wins the game'\n",
      "donald T-REX result in round 28 is 'Donald wins the game'\n",
      "Barack Omega result in round 28 is 'Donald wins the game'\n",
      "donald T-REX result in round 29 is 'Donald wins the game'\n",
      "Barack Omega result in round 29 is 'Donald wins the game'\n",
      "donald T-REX result in round 30 is 'Donald wins the game'\n",
      "Barack Omega result in round 30 is 'Donald wins the game'\n",
      "donald T-REX result in round 31 is 'Donald wins the game'\n",
      "Barack Omega result in round 31 is 'Donald wins the game'\n",
      "donald T-REX result in round 32 is 'Donald wins the game'\n",
      "Barack Omega result in round 32 is 'Donald wins the game'\n",
      "donald T-REX result in round 33 is 'Donald wins the game'\n",
      "Barack Omega result in round 33 is 'Donald wins the game'\n",
      "donald T-REX result in round 34 is 'Donald wins the game'\n",
      "Barack Omega result in round 34 is 'Donald wins the game'\n",
      "donald T-REX result in round 35 is 'Donald wins the game'\n",
      "Barack Omega result in round 35 is 'Donald wins the game'\n",
      "donald T-REX result in round 36 is 'Donald wins the game'\n",
      "Barack Omega result in round 36 is 'Donald wins the game'\n",
      "donald T-REX result in round 37 is 'Donald wins the game'\n",
      "Barack Omega result in round 37 is 'Donald wins the game'\n",
      "donald T-REX result in round 38 is 'Donald wins the game'\n",
      "Barack Omega result in round 38 is 'Donald wins the game'\n",
      "donald T-REX result in round 39 is 'Donald wins the game'\n",
      "Barack Omega result in round 39 is 'Donald wins the game'\n",
      "donald T-REX result in round 40 is 'Donald wins the game'\n",
      "Barack Omega result in round 40 is 'Donald wins the game'\n",
      "donald T-REX result in round 41 is 'Donald wins the game'\n",
      "Barack Omega result in round 41 is 'Donald wins the game'\n",
      "donald T-REX result in round 42 is 'Donald wins the game'\n",
      "Barack Omega result in round 42 is 'Donald wins the game'\n",
      "donald T-REX result in round 43 is 'Donald wins the game'\n",
      "Barack Omega result in round 43 is 'Donald wins the game'\n",
      "donald T-REX result in round 44 is 'Donald wins the game'\n",
      "Barack Omega result in round 44 is 'Donald wins the game'\n",
      "donald T-REX result in round 45 is 'Donald wins the game'\n",
      "Barack Omega result in round 45 is 'Donald wins the game'\n",
      "donald T-REX result in round 46 is 'Donald wins the game'\n",
      "Barack Omega result in round 46 is 'Donald wins the game'\n",
      "donald T-REX result in round 47 is 'Donald wins the game'\n",
      "Barack Omega result in round 47 is 'Donald wins the game'\n",
      "donald T-REX result in round 48 is 'Donald wins the game'\n",
      "Barack Omega result in round 48 is 'Donald wins the game'\n",
      "donald T-REX result in round 49 is 'Donald wins the game'\n",
      "Barack Omega result in round 49 is 'Donald wins the game'\n",
      "donald T-REX result in round 50 is 'Donald wins the game'\n",
      "Barack Omega result in round 50 is 'Donald wins the game'\n",
      "donald T-REX result in round 51 is 'Donald wins the game'\n",
      "Barack Omega result in round 51 is 'Donald wins the game'\n",
      "donald T-REX result in round 52 is 'Donald wins the game'\n",
      "Barack Omega result in round 52 is 'Donald wins the game'\n",
      "donald T-REX result in round 53 is 'Donald wins the game'\n",
      "Barack Omega result in round 53 is 'Donald wins the game'\n",
      "donald T-REX result in round 54 is 'Donald wins the game'\n",
      "Barack Omega result in round 54 is 'Donald wins the game'\n",
      "donald T-REX result in round 55 is 'Donald wins the game'\n",
      "Barack Omega result in round 55 is 'Donald wins the game'\n",
      "donald T-REX result in round 56 is 'Donald wins the game'\n",
      "Barack Omega result in round 56 is 'Donald wins the game'\n",
      "donald T-REX result in round 57 is 'Donald wins the game'\n",
      "Barack Omega result in round 57 is 'Donald wins the game'\n",
      "donald T-REX result in round 58 is 'Donald wins the game'\n",
      "Barack Omega result in round 58 is 'Donald wins the game'\n",
      "donald T-REX result in round 59 is 'Donald wins the game'\n",
      "Barack Omega result in round 59 is 'Donald wins the game'\n",
      "donald T-REX result in round 60 is 'Donald wins the game'\n",
      "Barack Omega result in round 60 is 'Donald wins the game'\n",
      "donald T-REX result in round 61 is 'Donald wins the game'\n",
      "Barack Omega result in round 61 is 'Donald wins the game'\n",
      "donald T-REX result in round 62 is 'Donald wins the game'\n",
      "Barack Omega result in round 62 is 'Donald wins the game'\n",
      "donald T-REX result in round 63 is 'Donald wins the game'\n",
      "Barack Omega result in round 63 is 'Donald wins the game'\n",
      "donald T-REX result in round 64 is 'Donald wins the game'\n",
      "Barack Omega result in round 64 is 'Donald wins the game'\n",
      "donald T-REX result in round 65 is 'Donald wins the game'\n",
      "Barack Omega result in round 65 is 'Donald wins the game'\n",
      "donald T-REX result in round 66 is 'Donald wins the game'\n",
      "Barack Omega result in round 66 is 'Donald wins the game'\n",
      "donald T-REX result in round 67 is 'Donald wins the game'\n",
      "Barack Omega result in round 67 is 'Donald wins the game'\n",
      "donald T-REX result in round 68 is 'Donald wins the game'\n",
      "Barack Omega result in round 68 is 'Donald wins the game'\n",
      "donald T-REX result in round 69 is 'Donald wins the game'\n",
      "Barack Omega result in round 69 is 'Donald wins the game'\n",
      "donald T-REX result in round 70 is 'Donald wins the game'\n",
      "Barack Omega result in round 70 is 'Donald wins the game'\n",
      "donald T-REX result in round 71 is 'Donald wins the game'\n",
      "Barack Omega result in round 71 is 'Donald wins the game'\n",
      "donald T-REX result in round 72 is 'Donald wins the game'\n",
      "Barack Omega result in round 72 is 'Donald wins the game'\n",
      "donald T-REX result in round 73 is 'Donald wins the game'\n",
      "Barack Omega result in round 73 is 'Donald wins the game'\n",
      "donald T-REX result in round 74 is 'Donald wins the game'\n",
      "Barack Omega result in round 74 is 'Donald wins the game'\n",
      "donald T-REX result in round 75 is 'Donald wins the game'\n",
      "Barack Omega result in round 75 is 'Donald wins the game'\n",
      "donald T-REX result in round 76 is 'Donald wins the game'\n",
      "Barack Omega result in round 76 is 'Donald wins the game'\n",
      "donald T-REX result in round 77 is 'Donald wins the game'\n",
      "Barack Omega result in round 77 is 'Donald wins the game'\n",
      "donald T-REX result in round 78 is 'Donald wins the game'\n",
      "Barack Omega result in round 78 is 'Donald wins the game'\n",
      "donald T-REX result in round 79 is 'Donald wins the game'\n",
      "Barack Omega result in round 79 is 'Donald wins the game'\n",
      "donald T-REX result in round 80 is 'Donald wins the game'\n",
      "Barack Omega result in round 80 is 'Donald wins the game'\n",
      "donald T-REX result in round 81 is 'Donald wins the game'\n",
      "Barack Omega result in round 81 is 'Donald wins the game'\n",
      "donald T-REX result in round 82 is 'Donald wins the game'\n",
      "Barack Omega result in round 82 is 'Donald wins the game'\n",
      "donald T-REX result in round 83 is 'Donald wins the game'\n",
      "Barack Omega result in round 83 is 'Donald wins the game'\n",
      "donald T-REX result in round 84 is 'Donald wins the game'\n",
      "Barack Omega result in round 84 is 'Donald wins the game'\n",
      "donald T-REX result in round 85 is 'Donald wins the game'\n",
      "Barack Omega result in round 85 is 'Donald wins the game'\n",
      "donald T-REX result in round 86 is 'Donald wins the game'\n",
      "Barack Omega result in round 86 is 'Donald wins the game'\n",
      "donald T-REX result in round 87 is 'Donald wins the game'\n",
      "Barack Omega result in round 87 is 'Donald wins the game'\n",
      "donald T-REX result in round 88 is 'Donald wins the game'\n",
      "Barack Omega result in round 88 is 'Donald wins the game'\n",
      "donald T-REX result in round 89 is 'Donald wins the game'\n",
      "Barack Omega result in round 89 is 'Donald wins the game'\n",
      "donald T-REX result in round 90 is 'Donald wins the game'\n",
      "Barack Omega result in round 90 is 'Donald wins the game'\n",
      "donald T-REX result in round 91 is 'Donald wins the game'\n",
      "Barack Omega result in round 91 is 'Donald wins the game'\n",
      "donald T-REX result in round 92 is 'Donald wins the game'\n",
      "Barack Omega result in round 92 is 'Donald wins the game'\n",
      "donald T-REX result in round 93 is 'Donald wins the game'\n",
      "Barack Omega result in round 93 is 'Donald wins the game'\n",
      "donald T-REX result in round 94 is 'Donald wins the game'\n",
      "Barack Omega result in round 94 is 'Donald wins the game'\n",
      "donald T-REX result in round 95 is 'Donald wins the game'\n",
      "Barack Omega result in round 95 is 'Donald wins the game'\n",
      "donald T-REX result in round 96 is 'Donald wins the game'\n",
      "Barack Omega result in round 96 is 'Donald wins the game'\n",
      "donald T-REX result in round 97 is 'Donald wins the game'\n",
      "Barack Omega result in round 97 is 'Donald wins the game'\n",
      "donald T-REX result in round 98 is 'Donald wins the game'\n",
      "Barack Omega result in round 98 is 'Donald wins the game'\n",
      "donald T-REX result in round 99 is 'Donald wins the game'\n",
      "Barack Omega result in round 99 is 'Donald wins the game'\n"
     ]
    }
   ],
   "source": [
    "for i in range(1,100):\n",
    "    print (\"donald T-REX result in round %s is %r\" %(i,donald(i)))\n",
    "    print (\"Barack Omega result in round %s is %r\" %(i,barack(i)))"
   ]
  },
  {
   "cell_type": "code",
   "execution_count": 217,
   "metadata": {
    "scrolled": true
   },
   "outputs": [
    {
     "data": {
      "text/plain": [
       "'Donald wins the game'"
      ]
     },
     "execution_count": 217,
     "metadata": {},
     "output_type": "execute_result"
    }
   ],
   "source": [
    "donald(1)"
   ]
  },
  {
   "cell_type": "code",
   "execution_count": 218,
   "metadata": {},
   "outputs": [
    {
     "data": {
      "text/plain": [
       "'Barack wins the game'"
      ]
     },
     "execution_count": 218,
     "metadata": {},
     "output_type": "execute_result"
    }
   ],
   "source": [
    "barack(1)"
   ]
  },
  {
   "cell_type": "code",
   "execution_count": 223,
   "metadata": {},
   "outputs": [
    {
     "data": {
      "text/plain": [
       "'Donald wins the game'"
      ]
     },
     "execution_count": 223,
     "metadata": {},
     "output_type": "execute_result"
    }
   ],
   "source": [
    "donald(9)"
   ]
  },
  {
   "cell_type": "code",
   "execution_count": 222,
   "metadata": {},
   "outputs": [
    {
     "data": {
      "text/plain": [
       "'Donald wins the game'"
      ]
     },
     "execution_count": 222,
     "metadata": {},
     "output_type": "execute_result"
    }
   ],
   "source": [
    "barack()"
   ]
  },
  {
   "cell_type": "code",
   "execution_count": 173,
   "metadata": {},
   "outputs": [
    {
     "name": "stdout",
     "output_type": "stream",
     "text": [
      "4 5\n"
     ]
    },
    {
     "data": {
      "text/plain": [
       "NoneType"
      ]
     },
     "execution_count": 173,
     "metadata": {},
     "output_type": "execute_result"
    }
   ],
   "source": [
    "type(print(4,5))"
   ]
  },
  {
   "cell_type": "code",
   "execution_count": 162,
   "metadata": {
    "collapsed": true
   },
   "outputs": [],
   "source": [
    "def count_eights(k):\n",
    "    '''\n",
    "    >>> count_eights(8818)\n",
    "    4\n",
    "    >>> count_eights(818)\n",
    "    2\n",
    "    >>> count_eights(88788)\n",
    "    6\n",
    "    >>> count_eights(88888)\n",
    "    9\n",
    "    '''\n",
    "    # YOUR CODE GOES HERE #\n",
    "    assert isinstance(k, int), \"Input must be an integer\"\n",
    "    assert (k > 0), \"k must be positive\"\n",
    "    if (k // 10 == 0):\n",
    "        if(k == 8):\n",
    "            return 1\n",
    "        else:\n",
    "            return 0\n",
    "    elif(k % 100 == 88):\n",
    "        k = k // 10\n",
    "        return count_eights(k) + 2\n",
    "    elif(k % 10 == 8):\n",
    "        #print(\"third checked\")\n",
    "        k = k // 10\n",
    "        return count_eights(k) + 1\n",
    "    else:\n",
    "        k = k // 10\n",
    "        return count_eights(k)\n"
   ]
  },
  {
   "cell_type": "code",
   "execution_count": 423,
   "metadata": {},
   "outputs": [],
   "source": [
    "def dictify(book_name):\n",
    "    \"\"\"Returns a dictionary containing the count of each length of word \n",
    "    Eg. How many words total of length 1, 2, 3...?\n",
    "    \"\"\"\n",
    "    # YOUR CODE GOES HERE #\n",
    "\n",
    "    try:\n",
    "        infile = open(book_name, encoding=\"utf8\")\n",
    "        bags_of_words = []\n",
    "        with infile as book:\n",
    "            for line in book:\n",
    "                line = line.strip()\n",
    "                parts = line.split(\" \")\n",
    "                bags_of_words.extend(parts)\n",
    "        dict_count = {}\n",
    "        for i in bags_of_words:\n",
    "            dict_count[len(i)] = 0\n",
    "        for i in bags_of_words:\n",
    "            dict_count[len(i)] += 1\n",
    "        del dict_count[0]\n",
    "        return dict_count\n",
    "    except IOError as e:\n",
    "        print('Cannot open the file!')"
   ]
  },
  {
   "cell_type": "code",
   "execution_count": 426,
   "metadata": {},
   "outputs": [
    {
     "name": "stderr",
     "output_type": "stream",
     "text": [
      "<ipython-input-426-17e5d5822727>:14: SyntaxWarning: assertion is always true, perhaps remove parentheses?\n",
      "  assert(book_name,str),\"book name must be a string!\"\n"
     ]
    }
   ],
   "source": [
    "def dictify(book_name):\n",
    "    \"\"\"Returns a dictionary containing the count of each length of word \n",
    "    Eg. How many words total of length 1, 2, 3...?\n",
    "    >>> dictify('haha')\n",
    "    'Cannot open the file!'\n",
    "    >>> dictify('War_and_Peace_no_punc.txt')\n",
    "    {1: 14932, 3: 141594, 7: 42747, 9: 17731, 5: 57778, 2: 93387, 4: 97791, 6: 48342, 8: 29986, 12: 2986, 10: 11155, 15: 254, 11: 4943, 14: 569, 13: 1572, 16: 126, 18: 40, 17: 47, 27: 1, 20: 8, 21: 2, 19: 14, 26: 2, 23: 2}\n",
    "    >>> dictify(War_and_Peace_no_punc.txt)\n",
    "    Traceback (most recent call last):\n",
    "      ...\n",
    "    AssertionError: book name must be a string!\n",
    "    \"\"\"\n",
    "    # YOUR CODE GOES HERE #\n",
    "    assert(book_name,str),\"book name must be a string!\"\n",
    "    try:\n",
    "        infile = open(book_name, encoding=\"utf8\")\n",
    "        bags_of_words = []\n",
    "        with infile as book:\n",
    "            for line in book:\n",
    "                line = line.strip()\n",
    "                parts = line.split(\" \")\n",
    "                bags_of_words.extend(parts)\n",
    "        dict_count = {}\n",
    "        for i in bags_of_words:\n",
    "            dict_count[len(i)] = 0\n",
    "        for i in bags_of_words:\n",
    "            dict_count[len(i)] += 1\n",
    "        del dict_count[0]\n",
    "        return dict_count\n",
    "    except IOError as e:\n",
    "        print('Cannot open the file!')\n",
    "        return 'Cannot open the file!'"
   ]
  },
  {
   "cell_type": "code",
   "execution_count": 430,
   "metadata": {
    "collapsed": true
   },
   "outputs": [],
   "source": [
    "def paren_checker(check_str):\n",
    "    '''\n",
    "    >>> paren_checker(\"()\")\n",
    "    True\n",
    "    >>> paren_checker(\"()()\")\n",
    "    False\n",
    "    >>> paren_checker(\"(()))\")\n",
    "    False\n",
    "    >>> paren_checker(\"((x)))\")\n",
    "    False\n",
    "    >>> paren_checker(\"((((((((()))))))))\")\n",
    "    True\n",
    "    >>> paren_checker(\"(())))))\")\n",
    "    False\n",
    "    >>> paren_checker(\"((6)))\")\n",
    "    False\n",
    "    >>> paren_checker(1)\n",
    "    Traceback (most recent call last):\n",
    "      ...\n",
    "    AssertionError: input must be string\n",
    "    '''\n",
    "    # YOUR CODE GOES HERE #\n",
    "    assert isinstance(check_str, str), \"input must be string\"\n",
    "    if(check_str == ''):\n",
    "        return True\n",
    "    else:\n",
    "        if(check_str[0] + check_str[-1] == \"()\"):\n",
    "            check_str = check_str[1:-1]\n",
    "            return paren_checker(check_str)\n",
    "        else:\n",
    "            return False"
   ]
  },
  {
   "cell_type": "code",
   "execution_count": 429,
   "metadata": {},
   "outputs": [
    {
     "name": "stdout",
     "output_type": "stream",
     "text": [
      "Cannot open the file!\n"
     ]
    },
    {
     "data": {
      "text/plain": [
       "'Cannot open the file!'"
      ]
     },
     "execution_count": 429,
     "metadata": {},
     "output_type": "execute_result"
    }
   ],
   "source": [
    "dictify(3)"
   ]
  },
  {
   "cell_type": "code",
   "execution_count": 168,
   "metadata": {},
   "outputs": [
    {
     "data": {
      "text/plain": [
       "9"
      ]
     },
     "execution_count": 168,
     "metadata": {},
     "output_type": "execute_result"
    }
   ],
   "source": [
    "count_eights(88888)"
   ]
  },
  {
   "cell_type": "code",
   "execution_count": 169,
   "metadata": {},
   "outputs": [
    {
     "data": {
      "text/plain": [
       "2"
      ]
     },
     "execution_count": 169,
     "metadata": {},
     "output_type": "execute_result"
    }
   ],
   "source": [
    "count_eights(818)"
   ]
  },
  {
   "cell_type": "code",
   "execution_count": 170,
   "metadata": {
    "scrolled": false
   },
   "outputs": [
    {
     "data": {
      "text/plain": [
       "0"
      ]
     },
     "execution_count": 170,
     "metadata": {},
     "output_type": "execute_result"
    }
   ],
   "source": [
    "count_eights(7)"
   ]
  },
  {
   "cell_type": "code",
   "execution_count": 171,
   "metadata": {},
   "outputs": [
    {
     "data": {
      "text/plain": [
       "6"
      ]
     },
     "execution_count": 171,
     "metadata": {},
     "output_type": "execute_result"
    }
   ],
   "source": [
    " count_eights(88788)"
   ]
  },
  {
   "cell_type": "code",
   "execution_count": 109,
   "metadata": {},
   "outputs": [
    {
     "data": {
      "text/plain": [
       "1"
      ]
     },
     "execution_count": 109,
     "metadata": {},
     "output_type": "execute_result"
    }
   ],
   "source": [
    "count_eights(8818)"
   ]
  },
  {
   "cell_type": "code",
   "execution_count": 100,
   "metadata": {},
   "outputs": [
    {
     "data": {
      "text/plain": [
       "8"
      ]
     },
     "execution_count": 100,
     "metadata": {},
     "output_type": "execute_result"
    }
   ],
   "source": [
    "8%10"
   ]
  },
  {
   "cell_type": "code",
   "execution_count": 99,
   "metadata": {},
   "outputs": [
    {
     "data": {
      "text/plain": [
       "88"
      ]
     },
     "execution_count": 99,
     "metadata": {},
     "output_type": "execute_result"
    }
   ],
   "source": [
    "88788 % 100"
   ]
  },
  {
   "cell_type": "code",
   "execution_count": 96,
   "metadata": {},
   "outputs": [
    {
     "data": {
      "text/plain": [
       "True"
      ]
     },
     "execution_count": 96,
     "metadata": {},
     "output_type": "execute_result"
    }
   ],
   "source": [
    "has_eight(28332318)"
   ]
  },
  {
   "cell_type": "code",
   "execution_count": 61,
   "metadata": {
    "scrolled": true
   },
   "outputs": [
    {
     "data": {
      "text/plain": [
       "0"
      ]
     },
     "execution_count": 61,
     "metadata": {},
     "output_type": "execute_result"
    }
   ],
   "source": [
    "7//8"
   ]
  },
  {
   "cell_type": "code",
   "execution_count": 73,
   "metadata": {},
   "outputs": [
    {
     "data": {
      "text/plain": [
       "8"
      ]
     },
     "execution_count": 73,
     "metadata": {},
     "output_type": "execute_result"
    }
   ],
   "source": [
    "7348%10"
   ]
  },
  {
   "cell_type": "code",
   "execution_count": 80,
   "metadata": {},
   "outputs": [
    {
     "data": {
      "text/plain": [
       "8"
      ]
     },
     "execution_count": 80,
     "metadata": {},
     "output_type": "execute_result"
    }
   ],
   "source": [
    "2834//10//10%10"
   ]
  },
  {
   "cell_type": "code",
   "execution_count": 77,
   "metadata": {},
   "outputs": [
    {
     "data": {
      "text/plain": [
       "4"
      ]
     },
     "execution_count": 77,
     "metadata": {},
     "output_type": "execute_result"
    }
   ],
   "source": [
    "2834%10"
   ]
  },
  {
   "cell_type": "code",
   "execution_count": 90,
   "metadata": {
    "scrolled": true
   },
   "outputs": [
    {
     "data": {
      "text/plain": [
       "True"
      ]
     },
     "execution_count": 90,
     "metadata": {},
     "output_type": "execute_result"
    }
   ],
   "source": [
    "has_eight(8888)"
   ]
  },
  {
   "cell_type": "code",
   "execution_count": 91,
   "metadata": {},
   "outputs": [
    {
     "data": {
      "text/plain": [
       "True"
      ]
     },
     "execution_count": 91,
     "metadata": {},
     "output_type": "execute_result"
    }
   ],
   "source": [
    "has_eight(7348)"
   ]
  },
  {
   "cell_type": "code",
   "execution_count": 93,
   "metadata": {},
   "outputs": [
    {
     "data": {
      "text/plain": [
       "False"
      ]
     },
     "execution_count": 93,
     "metadata": {},
     "output_type": "execute_result"
    }
   ],
   "source": [
    "has_eight(2634)"
   ]
  },
  {
   "cell_type": "code",
   "execution_count": 94,
   "metadata": {},
   "outputs": [
    {
     "data": {
      "text/plain": [
       "True"
      ]
     },
     "execution_count": 94,
     "metadata": {},
     "output_type": "execute_result"
    }
   ],
   "source": [
    "has_eight(2834)"
   ]
  },
  {
   "cell_type": "code",
   "execution_count": 95,
   "metadata": {},
   "outputs": [
    {
     "data": {
      "text/plain": [
       "True"
      ]
     },
     "execution_count": 95,
     "metadata": {},
     "output_type": "execute_result"
    }
   ],
   "source": [
    "has_eight(78)"
   ]
  },
  {
   "cell_type": "code",
   "execution_count": 47,
   "metadata": {},
   "outputs": [
    {
     "data": {
      "text/plain": [
       "False"
      ]
     },
     "execution_count": 47,
     "metadata": {},
     "output_type": "execute_result"
    }
   ],
   "source": [
    "has_eight(3)"
   ]
  },
  {
   "cell_type": "code",
   "execution_count": 45,
   "metadata": {},
   "outputs": [
    {
     "data": {
      "text/plain": [
       "True"
      ]
     },
     "execution_count": 45,
     "metadata": {},
     "output_type": "execute_result"
    }
   ],
   "source": [
    "'8' in '888'"
   ]
  },
  {
   "cell_type": "code",
   "execution_count": 42,
   "metadata": {},
   "outputs": [
    {
     "data": {
      "text/plain": [
       "16"
      ]
     },
     "execution_count": 42,
     "metadata": {},
     "output_type": "execute_result"
    }
   ],
   "source": [
    "power (-2, 4)"
   ]
  },
  {
   "cell_type": "code",
   "execution_count": 40,
   "metadata": {
    "scrolled": true
   },
   "outputs": [
    {
     "data": {
      "text/plain": [
       "0.012345679012345678"
      ]
     },
     "execution_count": 40,
     "metadata": {},
     "output_type": "execute_result"
    }
   ],
   "source": [
    "power(3, -4)"
   ]
  },
  {
   "cell_type": "code",
   "execution_count": 21,
   "metadata": {
    "scrolled": true
   },
   "outputs": [
    {
     "data": {
      "text/plain": [
       "13"
      ]
     },
     "execution_count": 21,
     "metadata": {},
     "output_type": "execute_result"
    }
   ],
   "source": [
    "garden(5)"
   ]
  },
  {
   "cell_type": "code",
   "execution_count": 20,
   "metadata": {
    "scrolled": true
   },
   "outputs": [
    {
     "data": {
      "text/plain": [
       "25"
      ]
     },
     "execution_count": 20,
     "metadata": {},
     "output_type": "execute_result"
    }
   ],
   "source": [
    "garden(10)"
   ]
  }
 ],
 "metadata": {
  "kernelspec": {
   "display_name": "Python 3",
   "language": "python",
   "name": "python3"
  },
  "language_info": {
   "codemirror_mode": {
    "name": "ipython",
    "version": 3
   },
   "file_extension": ".py",
   "mimetype": "text/x-python",
   "name": "python",
   "nbconvert_exporter": "python",
   "pygments_lexer": "ipython3",
   "version": "3.6.3"
  }
 },
 "nbformat": 4,
 "nbformat_minor": 2
}
